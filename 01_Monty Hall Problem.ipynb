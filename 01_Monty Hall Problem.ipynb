{
 "cells": [
  {
   "cell_type": "markdown",
   "id": "379d881f",
   "metadata": {},
   "source": [
    "# Use Python to solve the famous Monty Hall problem"
   ]
  },
  {
   "cell_type": "markdown",
   "id": "e0e21657",
   "metadata": {},
   "source": [
    "The Monty Hall problem is a famoous probability puzzle. The problems is posed like this:\n",
    "\n",
    "You are on a game show, and you're given the choice of three doors: Behind one door is a car; behind the others, goats. You pick a door, say Door 1, and the host, who knows what's behind the doors, opens Door 3, which has a goat. The host then says, \"Do you want to stay with your original door or switch to Door 2?\" Is it to your advantage to switch your choice?\n",
    "\n",
    "However, we can use Python to simulate 100,000 games to solve the game show problem. The code below requires the use of the NumPy library <https://numpy.org/install/>. The simulation plays 100,000 iteration of the games. For each game, it records whether the car is behind the selected door or behind the other unopened door. The simulation then outputs the average chance of winning the car if you always stayed with your selection versus if you switch doors.\n",
    "\n",
    "I used the time module to time the duration of the simulation. On my PC, it took less than 3 seconds to run 100,000 iterations of the Monty Hall problem. I hope you find this helpful and please consider following my account for more interesting programming."
   ]
  },
  {
   "cell_type": "code",
   "execution_count": 1,
   "id": "62afa643",
   "metadata": {
    "scrolled": true
   },
   "outputs": [
    {
     "name": "stdout",
     "output_type": "stream",
     "text": [
      "\n",
      "    100,000 games were played \n",
      "    Chances of winning the car based on the following strategies:\n",
      "    Remaining with initial selection: 33.3%\n",
      "    Switching doors: 66.7%\n",
      "\n",
      "Simulation Completed in: 2.58 Seconds\n"
     ]
    }
   ],
   "source": [
    "from numpy import random\n",
    "import numpy as np\n",
    "import time\n",
    "\n",
    "def MontyHallSimulation (N):\n",
    "    ChoiceUnchanged=[]\n",
    "    ChoiceChanged=[]\n",
    "    NN=1\n",
    "    for i in range(0,N):\n",
    "        \n",
    "        # 1) The car is placed behind a random door.\n",
    "        WinningDoor=random.choice(['Door 1', 'Door 2', 'Door 3'])\n",
    "\n",
    "        # 2) The contestant selects a random door.\n",
    "        FirstSelection=random.choice(['Door 1', 'Door 2', 'Door 3'])\n",
    "        \n",
    "        # 3) The host opens a door that is different than the contestants choice \n",
    "        #    and not the door with the car.\n",
    "        HostOpens=list(set(['Door 1', 'Door 2', 'Door 3'])-set([FirstSelection,WinningDoor]))[0]\n",
    "        \n",
    "        # 4) The other door is not the participant's selected door and not the opened door. \n",
    "        OtherDoor=list(set(['Door 1', 'Door 2', 'Door 3'])-set([FirstSelection,HostOpens]))[0]\n",
    "        \n",
    "        # 5) Add \"True\" to a list where the participant DOES NOT change their selection AND thier \n",
    "        #    selection identified the door with the car. \n",
    "        ChoiceUnchanged.append(FirstSelection==WinningDoor)\n",
    "        \n",
    "        # 6) Add \"True\" to a list where the participant DOES change their selection and thier \n",
    "        #    new selected door has the car behind it.\n",
    "        ChoiceChanged.append(OtherDoor==WinningDoor)\n",
    "        \n",
    "    # NOTE: The boolean object \"TRUE\" is equal to 1 and \"False\" is equal to 0.\n",
    "    #       As such, we can use the \"sum\" function to get the total number of wins\n",
    "    #       for each strategy.\n",
    "    print(f'\\n\\\n",
    "    {N:,} games were played \\n\\\n",
    "    Chances of winning the car based on the following strategies:\\n\\\n",
    "    Remaining with initial selection: {\"{:.1%}\".format(sum(ChoiceUnchanged)/N)}\\n\\\n",
    "    Switching doors: {\"{:.1%}\".format(sum(ChoiceChanged)/N)}')\n",
    "            \n",
    "###############################            \n",
    "###### Run the Simulation######\n",
    "###############################\n",
    "Start_time = time.time()\n",
    "MontyHallSimulation(N=100000)         \n",
    "print(f'\\nSimulation Completed in: {round(time.time()-Start_time,2)} Seconds')"
   ]
  }
 ],
 "metadata": {
  "kernelspec": {
   "display_name": "Python 3 (ipykernel)",
   "language": "python",
   "name": "python3"
  },
  "language_info": {
   "codemirror_mode": {
    "name": "ipython",
    "version": 3
   },
   "file_extension": ".py",
   "mimetype": "text/x-python",
   "name": "python",
   "nbconvert_exporter": "python",
   "pygments_lexer": "ipython3",
   "version": "3.7.11"
  }
 },
 "nbformat": 4,
 "nbformat_minor": 5
}
